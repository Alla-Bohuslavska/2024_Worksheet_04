{
 "cells": [
  {
   "cell_type": "markdown",
   "id": "1320fd52-4251-4950-a29c-c21752579f18",
   "metadata": {},
   "source": [
    "## Statistics 2780A - Statistical Inference ##\n",
    "## Fall 2024 #\n",
    "## Tutorial 4 #\n",
    "October 2, 2024"
   ]
  },
  {
   "cell_type": "markdown",
   "id": "faa99cc7-1ef0-47a7-b6bb-12f93bfba78f",
   "metadata": {},
   "source": [
    "## Q1 ##\n",
    "1. The measurement errors of an instrument are assumed to be normally distributed with unknown mean and standard deviation $\\sigma = 3$ cm. 10 randomly selected devices are selected and their lengths (in cm) are measured with the instrument and compared with the prototype. \n",
    "   \n",
    "   The following sample is obtained:\n",
    "   \n",
    "   `x <- c(6.44, 10.59, 10.15,  8.90,  4.76,  5.47,  3.03, -0.99,  9.30,  4.08)`\n",
    "\n",
    "   Compute an estimated $(1-\\alpha)\\%$ confidence interval for the true mean error $\\mu$ at the following levels\n",
    "   1. $\\alpha=0.1$\n",
    "   2. $\\alpha=0.05$\n",
    "   3. $\\alpha=0.01$\n",
    "   \n",
    "   What do you observe about the lengths of intervals when $\\alpha$ decreases, i.e., $1-\\alpha$ increases?\n",
    "\n",
    "   We consider that the sample is too small and we randomly select 20 devices and obtained the following measurement errors:\n",
    "\n",
    "   `y <- c(7.39, -3.14,  0.82,  6.81,  6.56,  8.38, -0.24,  5.70,  5.75,  0.08,  2.38,  9.84,  4.16,  5.05,  1.99,  4.83,  6.07,  6.47, 10.44, -3.04)`\n",
    "\n",
    "   Compute an estimated $95\\%$ confidence interval for the true mean error $\\mu$ using the sample $y$. Compare the result with the $95\\%$ confidence interval for $\\mu$ using the sample $x$. What do you observe?"
   ]
  },
  {
   "cell_type": "code",
   "execution_count": null,
   "id": "09593856-108e-46ad-b14d-2235b3e5dd86",
   "metadata": {},
   "outputs": [],
   "source": [
    "# answer"
   ]
  },
  {
   "cell_type": "markdown",
   "id": "3674a6c5-52c2-4096-8718-88c696ddd495",
   "metadata": {},
   "source": [
    "## Q2 ##\n",
    "2. The dataset $\\texttt{CO2}$ in the R package $\\texttt{datasets}$ contains the data of an experiment on the cold tolerance of the grass species Echinochloa crus-galli. One variable, $\\texttt{uptake}$ records the carbon dioxide uptake rates (μmol/$m^2$ sec). We are interested in the true proportion $p$ of carbon dioxide uptake rates smaller than 25. \n",
    "\n",
    "    1. Based on the data, estimate the proportion of carbon dioxide uptake rates smaller than 25. You can create a new random variable, Bernoulli distributed, which takes value 1, if the $\\texttt{uptake}\\leq 25$ and takes value 0 otherwise.\n",
    "    2. Check the success-failure condition.\n",
    "    3. Estimate a 96% approximate confidence interval for the true proportion $p$."
   ]
  },
  {
   "cell_type": "code",
   "execution_count": null,
   "id": "3bee6e0c-5324-470d-9d20-e3e9d343af61",
   "metadata": {},
   "outputs": [],
   "source": [
    "# answer"
   ]
  },
  {
   "cell_type": "markdown",
   "id": "20183ad1-1f77-4c24-88f7-f26cf79de5c4",
   "metadata": {},
   "source": [
    "## Q3 ##\n",
    "3. For $X_1,\\ldots,X_{30}\\sim N(\\mu, \\sigma^2)$, i.i.d. with $\\mu$, $\\sigma$ unknown, we have 20 samples, each consisting\n",
    "of 30 observations $x_1,\\ldots, x_{30}$. For each sample, we have estimated the mean and the standard deviation, using the\n",
    "sample estimators $\\overline{X}_{30}$ and $S_{30}$. The following sample means and standard deviations are obtained:\n",
    "\n",
    "`means <-c(3.73, 3.60, 3.71, 3.93, 3.88, 3.33, 3.77, 3.76, 3.87, 4.33, 4.44, 3.93, 3.99, 4.31, 3.87, 3.90, 4.09, 4.07, 4.34, 3.92)`\n",
    "\n",
    "`sds <- c(3.73, 3.60, 3.71, 3.93, 3.88, 3.33, 3.77, 3.76, 3.87, 4.33, 4.44, 3.93, 3.99, 4.31, 3.87, 3.90, 4.09, 4.07, 4.34, 3.92)`\n",
    "\n",
    "Estimate 90% confidence intervals for the unknown mean of the population.  \n",
    "    1. How many of the constructed confidence intervals do you expect to contain the true mean?  \n",
    "    2. The true mean of the population is $\\mu=4$. Check if your expectation from B. was valid. You may use the function \n",
    "    `which(4<l | 4>u)` to check if the true mean is outside the estimated interval $[l,u]$.  \n",
    "    3. What do you notice about the length of the confidence intervals? \n"
   ]
  },
  {
   "cell_type": "code",
   "execution_count": null,
   "id": "b18d47a0-0a9b-4333-b937-7994a9969f2a",
   "metadata": {},
   "outputs": [],
   "source": [
    "# answer"
   ]
  }
 ],
 "metadata": {
  "kernelspec": {
   "display_name": "R",
   "language": "R",
   "name": "ir"
  },
  "language_info": {
   "codemirror_mode": "r",
   "file_extension": ".r",
   "mimetype": "text/x-r-source",
   "name": "R",
   "pygments_lexer": "r",
   "version": "4.3.3"
  }
 },
 "nbformat": 4,
 "nbformat_minor": 5
}
